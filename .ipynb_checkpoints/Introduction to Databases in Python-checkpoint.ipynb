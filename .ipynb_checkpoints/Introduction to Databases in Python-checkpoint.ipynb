{
 "cells": [
  {
   "cell_type": "code",
   "execution_count": 11,
   "metadata": {},
   "outputs": [],
   "source": [
    "from sqlalchemy import Table, MetaData,create_engine\n",
    "from sqlalchemy.sql import select\n",
    "from sqlalchemy import func\n",
    "from sqlalchemy import desc\n",
    "metadata = MetaData()\n",
    "engine = create_engine('sqlite:///census.sqlite')\n",
    "connection = engine.connect()\n",
    "census = Table('census', metadata, autoload=True,autoload_with=engine)\n",
    "stmt = select([census])\n",
    "results = connection.execute(stmt).fetchall()"
   ]
  },
  {
   "cell_type": "code",
   "execution_count": 12,
   "metadata": {},
   "outputs": [
    {
     "name": "stdout",
     "output_type": "stream",
     "text": [
      "[(61, 25201), (54, 23503), (55, 21716), (60, 19677), (58, 19526)]\n"
     ]
    }
   ],
   "source": [
    "stmt = select([census.columns.age,(census.columns.pop2008 - census.columns.pop2000).label('pop_change')])\n",
    "stmt = stmt.group_by(census.columns.age)\n",
    "stmt = stmt.order_by(desc('pop_change'))\n",
    "stmt = stmt.limit(5)\n",
    "results = connection.execute(stmt).fetchall()\n",
    "print(results)"
   ]
  },
  {
   "cell_type": "code",
   "execution_count": null,
   "metadata": {},
   "outputs": [],
   "source": []
  }
 ],
 "metadata": {
  "kernelspec": {
   "display_name": "Python 3",
   "language": "python",
   "name": "python3"
  },
  "language_info": {
   "codemirror_mode": {
    "name": "ipython",
    "version": 3
   },
   "file_extension": ".py",
   "mimetype": "text/x-python",
   "name": "python",
   "nbconvert_exporter": "python",
   "pygments_lexer": "ipython3",
   "version": "3.8.3"
  }
 },
 "nbformat": 4,
 "nbformat_minor": 4
}
